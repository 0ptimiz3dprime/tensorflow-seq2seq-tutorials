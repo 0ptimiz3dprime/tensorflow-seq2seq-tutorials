{
 "cells": [
  {
   "cell_type": "markdown",
   "metadata": {},
   "source": [
    "# Simple dynamic seq2seq with TensorFlow"
   ]
  },
  {
   "cell_type": "markdown",
   "metadata": {},
   "source": [
    "This tutorial covers building seq2seq using dynamic RNN rollout with TensorFlow. I wasn't able to find any existing implementation of dynamic seq2seq with TF (as of 01.01.2017), so I decided to learn how to write my own, and write up what I learn in the process.\n",
    "\n",
    "I deliberately try to be as explicit as possible. As it currently stands, TF code is the best source of documentation on itself, and I have a feeling that many conventions and design decisions are not documented anywhere except in the brains of Google Brain engineers. This makes learning it a bit of a guesswork, and also wickedly fun.\n",
    "\n",
    "I hope this will be useful to people whose brains are wired like mine."
   ]
  },
  {
   "cell_type": "markdown",
   "metadata": {},
   "source": [
    "## RNN rollout\n",
    "```\n",
    "@TODO: rollout, static vs dynamic\n",
    "```"
   ]
  },
  {
   "cell_type": "markdown",
   "metadata": {},
   "source": [
    "## Data specification\n",
    "\n",
    "Seq2seq maps sequence onto another sequence. Both sequences consist of integers from a fixed range. In language tasks, integers usually correspond to words: we first construct a vocabulary by assigning to every word in our corpus a serial integer. First few integers are reserved for special tokens. We'll call the upper bound on vocabulary a `vocabulary size`.\n",
    "\n",
    "Input data consists of sequences of integers."
   ]
  },
  {
   "cell_type": "code",
   "execution_count": 1,
   "metadata": {
    "collapsed": false
   },
   "outputs": [
    {
     "name": "stdout",
     "output_type": "stream",
     "text": [
      "[[5, 7, 8], [6, 3], [3], [1]]\n"
     ]
    }
   ],
   "source": [
    "sentences = [[5, 7, 8], [6, 3], [3], [1]]\n",
    "print(sentences)"
   ]
  },
  {
   "cell_type": "code",
   "execution_count": 2,
   "metadata": {
    "collapsed": true
   },
   "outputs": [],
   "source": [
    "PAD = 0\n",
    "EOS = 1"
   ]
  },
  {
   "cell_type": "markdown",
   "metadata": {},
   "source": [
    "While manipulating such variable-length lists are convenient to humans, RNNs prefer a different layout:\n",
    "```\n",
    "[[5, 6, 3, 1],\n",
    " [7, 3, 0, 0],\n",
    " [8, 0, 0, 0]]\n",
    "```\n",
    "\n",
    "Here, first dimension (major axis) becomes `time` instead of `sentence`. Hence the name `time-major layout`.\n",
    "\n",
    "Legacy tensorflow seq2seq module used static unrolling and could only work with time-major layout. Dynamicly unrolled RNNs can use batch-major layout, but will suffer some performance penalty. \n",
    "\n",
    "We would use time-major layout for this tutorial."
   ]
  },
  {
   "cell_type": "code",
   "execution_count": 3,
   "metadata": {
    "collapsed": true
   },
   "outputs": [],
   "source": [
    "import numpy as np\n",
    "\n",
    "def preprocess_batch(inputs, max_sequence_length=None):\n",
    "    \"\"\"\n",
    "    Args:\n",
    "        inputs:\n",
    "            list of sentences (integer lists)\n",
    "        max_sequence_length:\n",
    "            integer specifying how large should `max_time` dimension be.\n",
    "            If None, maximum sequence length would be used\n",
    "    \n",
    "    Outputs:\n",
    "        inputs_time_major:\n",
    "            input sentences transformed into time-major matrix (shape [max_time, batch_size])\n",
    "            padded with 0s\n",
    "        sequence_lengths:\n",
    "            batch-sized list of integers specifying amount of active time steps in each input sequence\n",
    "    \"\"\"\n",
    "    \n",
    "    sequence_lengths = [len(seq) for seq in inputs]\n",
    "    batch_size = len(inputs)\n",
    "    \n",
    "    if max_sequence_length is None:\n",
    "        max_sequence_length = max(sequence_lengths)\n",
    "    \n",
    "    inputs_batch_major = np.zeros(shape=[batch_size, max_sequence_length], dtype=np.int32) # == PAD\n",
    "    \n",
    "    for i, seq in enumerate(inputs):\n",
    "        for j, element in enumerate(seq):\n",
    "            inputs_batch_major[i, j] = element\n",
    "\n",
    "    # [batch_size, max_time] -> [max_time, batch_size]\n",
    "    inputs_time_major = inputs_batch_major.swapaxes(0, 1)\n",
    "\n",
    "    return inputs_time_major, sequence_lengths"
   ]
  },
  {
   "cell_type": "code",
   "execution_count": 4,
   "metadata": {
    "collapsed": false
   },
   "outputs": [],
   "source": [
    "inputs_time_major, inputs_length = preprocess_batch(sentences)"
   ]
  },
  {
   "cell_type": "code",
   "execution_count": 5,
   "metadata": {
    "collapsed": false
   },
   "outputs": [
    {
     "data": {
      "text/plain": [
       "array([[5, 6, 3, 1],\n",
       "       [7, 3, 0, 0],\n",
       "       [8, 0, 0, 0]], dtype=int32)"
      ]
     },
     "execution_count": 5,
     "metadata": {},
     "output_type": "execute_result"
    }
   ],
   "source": [
    "inputs_time_major"
   ]
  },
  {
   "cell_type": "markdown",
   "metadata": {},
   "source": [
    "Notice that `inputs_time_major` is a matrix with `sequences` in columns, time steps in rows.\n",
    "\n",
    "Even though TensorFlow can now do fully dynamic unrolling of RNNs, every batch should be a Tensor with some dimensions. This is why we need padding."
   ]
  },
  {
   "cell_type": "code",
   "execution_count": 6,
   "metadata": {
    "collapsed": false
   },
   "outputs": [
    {
     "data": {
      "text/plain": [
       "[3, 2, 1, 1]"
      ]
     },
     "execution_count": 6,
     "metadata": {},
     "output_type": "execute_result"
    }
   ],
   "source": [
    "inputs_length"
   ]
  },
  {
   "cell_type": "markdown",
   "metadata": {},
   "source": [
    "`batch_length` specifies length of every example in batch Tensor. This is used by TF ops to know when to stop unrolling the network."
   ]
  },
  {
   "cell_type": "markdown",
   "metadata": {},
   "source": [
    "# Building a model"
   ]
  },
  {
   "cell_type": "markdown",
   "metadata": {},
   "source": [
    "## Simple seq2seq"
   ]
  },
  {
   "cell_type": "markdown",
   "metadata": {},
   "source": [
    "First we implement plain seq2seq — forward-only encoder + decoder without attention. I'll try to follow closely the original architecture described in [Sutskever, Vinyals and Le (2014)](https://arxiv.org/abs/1409.3215). If you notice any deviations, please let me know."
   ]
  },
  {
   "cell_type": "markdown",
   "metadata": {},
   "source": [
    "Architecture diagram from their paper:\n",
    "![seq2seq architecutre](pictures/1-seq2seq.png)\n",
    "Rectangles are encoder and decoder's recurrent layers. Encoder receives `[A, B, C]` sequence as inputs. We don't care about encoder outputs, only about the hidden state it accumulates while reading the sequence. After input sequence ends, encoder passes its final state to decoder, which receives `[<EOS>, W, X, Y, Z]` and is trained to output `[W, X, Y, Z, <EOS>]`. `<EOS>` token is a special word in vocabulary that signals to decoder the beginning of translation.\n",
    "\n",
    "Encoder starts with empty state and runs through the input sequence. We are not interested in encoder's outputs, only in its `final_state`.\n",
    "\n",
    "Decoder uses encoder's `final_state` as its `initial_state`. Its inputs are a batch-sized matrix with `<EOS>` token at the 1st time step and `<PAD>` at the following. This is a rather crude setup, useful only for tutorial purposes. In practice, we would like to feed previously generated tokens after `<EOS>`.\n",
    "\n",
    "Decoder's outputs are mapped onto the output space using `[hidden_units x output_vocab_size]` projection layer. This is necessary because we cannot make `hidden_units` of decoder arbitrarily large, while our target space would grow with the size of the dictionary.\n",
    "\n",
    "This kind of encoder-decoder is forced to learn fixed-length representation (specifically, `hidden_units` size) of the variable-length input sequence and restore output sequence only from this representation."
   ]
  },
  {
   "cell_type": "code",
   "execution_count": 7,
   "metadata": {
    "collapsed": true
   },
   "outputs": [],
   "source": [
    "import tensorflow as tf\n",
    "\n",
    "tf.reset_default_graph()\n",
    "sess = tf.InteractiveSession()"
   ]
  },
  {
   "cell_type": "markdown",
   "metadata": {},
   "source": [
    "### Model inputs and outputs "
   ]
  },
  {
   "cell_type": "markdown",
   "metadata": {},
   "source": [
    "First critical thing to decide: vocabulary size.\n",
    "\n",
    "Dynamic RNN models can be adapted to different batch sizes and sequence lengths without retraining (e.g. by serializing model parameters and Graph definitions via `tf.train.Saver`), but changing vocabulary size requires retraining the model."
   ]
  },
  {
   "cell_type": "code",
   "execution_count": 8,
   "metadata": {
    "collapsed": true
   },
   "outputs": [],
   "source": [
    "vocab_size = 10"
   ]
  },
  {
   "cell_type": "markdown",
   "metadata": {},
   "source": [
    "Nice way to understand complicated function is to study its signature - inputs and outputs. With pure functions, only inputs-output relation matters.\n",
    "\n",
    "- `encoder_inputs` int32 tensor is shaped `[encoder_max_time, batch_size]`\n",
    "- `decoder_targets` int32 tensor is shaped `[decoder_max_time, batch_size]`"
   ]
  },
  {
   "cell_type": "code",
   "execution_count": 9,
   "metadata": {
    "collapsed": false
   },
   "outputs": [],
   "source": [
    "encoder_inputs = tf.placeholder(shape=(None, None), dtype=tf.int32, name='encoder_inputs')\n",
    "decoder_targets = tf.placeholder(shape=(None, None), dtype=tf.int32, name='decoder_targets')"
   ]
  },
  {
   "cell_type": "markdown",
   "metadata": {},
   "source": [
    "We'll add one additional placeholder tensor: \n",
    "- `decoder_inputs` int32 tensor is shaped `[decoder_max_time, batch_size]`"
   ]
  },
  {
   "cell_type": "code",
   "execution_count": 10,
   "metadata": {
    "collapsed": false
   },
   "outputs": [],
   "source": [
    "decoder_inputs = tf.placeholder(shape=(None, None), dtype=tf.int32, name='decoder_inputs')"
   ]
  },
  {
   "cell_type": "markdown",
   "metadata": {},
   "source": [
    "We actually don't want to feed `decoder_inputs` by hand, but in case of a tutorial, I think it will be illustrative.\n",
    "\n",
    "During training, `decoder_inputs` will consist of `<EOS>` token concatenated with `decoder_targets` along time axis. In this way, we always pass target sequence as the history to the decoder, regrardless of what it actually outputs predicts. This can introduce distribution shift from training to prediction. \n",
    "In prediction mode, model will receive tokens it previously generated (via argmax over logits), not the ground truth, which would be unknowable."
   ]
  },
  {
   "cell_type": "markdown",
   "metadata": {},
   "source": [
    "Notice that all shapes are specified with `None`s (dynamic). We can use batches of any size with any number of timesteps. This is convenient and efficient, however but there are obvious constraints: \n",
    "- Feed values for all tensors should have same `batch_size`\n",
    "- Decoder inputs and ouputs (`decoder_inputs` and `decoder_targets`) should have same `decoder_max_time`"
   ]
  },
  {
   "cell_type": "markdown",
   "metadata": {},
   "source": [
    "### Encoder"
   ]
  },
  {
   "cell_type": "markdown",
   "metadata": {},
   "source": [
    "The centerpiece of all things RNN in TensorFlow is `RNNCell` class and its descendants (like `LSTMCell` and `InputProjectionWrapper`). But they are outside of the scope of this post — nice [official tutorial](https://www.tensorflow.org/tutorials/recurrent/) is available. While at it, make sure you're also familiar with the [official tutorial on embeddings](https://www.tensorflow.org/tutorials/word2vec/).\n",
    "\n",
    "`@TODO: RNNCell as a factory`"
   ]
  },
  {
   "cell_type": "code",
   "execution_count": 11,
   "metadata": {
    "collapsed": true
   },
   "outputs": [],
   "source": [
    "from tensorflow.contrib.rnn import (LSTMCell,\n",
    "                                    InputProjectionWrapper,\n",
    "                                    OutputProjectionWrapper)"
   ]
  },
  {
   "cell_type": "code",
   "execution_count": 12,
   "metadata": {
    "collapsed": false
   },
   "outputs": [],
   "source": [
    "hidden_units = 20\n",
    "\n",
    "encoder_cell = LSTMCell(hidden_units)\n",
    "\n",
    "encoder_cell = InputProjectionWrapper(cell=encoder_cell, num_proj=hidden_units)\n",
    "\n",
    "encoder_inputs_onehot = tf.one_hot(encoder_inputs, depth=vocab_size, dtype=tf.float32)\n",
    "\n",
    "encoder_outputs, encoder_final_state = tf.nn.dynamic_rnn(\n",
    "    encoder_cell, encoder_inputs_onehot,\n",
    "    dtype=tf.float32, time_major=True,\n",
    ")\n",
    "\n",
    "del encoder_outputs"
   ]
  },
  {
   "cell_type": "markdown",
   "metadata": {},
   "source": [
    "Observe what is going on here:\n",
    "- `encoder_inputs`, integer tensor with shape `[max_time, batch_size]`, gets one-hot encoded. Every integer at the every timestep in every batch gets transformed into a vector with size `vocab_size` that forms the new inner dimension. Resulting `encoder_inputs_onehot` is shaped `[max_time, batch_size, vocab_size]`. It consists of a single 1 and (vocab_size-1) 0s, but we want it to be float32 since we're going to multiply it with projection layer's weights.\n",
    "- `InputProjectionWrapper` adds `[vocab_size, hidden_units]` linear projection layer (without nonlinearities) before `LSTMCell`'s inputs. Resulting projection is shaped `[max_time, batch_size, hidden_units]` and is compatible with `LSTMCell`.\n",
    "\n",
    "There is more efficient way to get `[max_time, batch_size, hidden_units]` shape from `encoder_inputs`: `tf.nn.embedding_lookup`. Instead of one-hot encoding followed by matrix multiplication, it treats input integers as indices of projection layer's weights (this works because multiplication of one-hot vector with a dense matrix is exactly equivalent to indexing this matrix with an integer). Additionally, I think, it removes unnecessary compution of gradients for inactive embeddings (`@TODO: check, reformulate`).\n",
    "\n",
    "We discard `encoder_outputs` because we are not interested in them within seq2seq framework. What we actually want is `encoder_final_state` — state of LSTM's hidden cells at the last moment of the Encoder rollout.\n",
    "\n",
    "`encoder_final_state` is also called \"thought vector\". We will use it as initial state for the Decoder. In seq2seq without attention this is the only point where Encoder passes information to Decoder. We hope that backpropagation through time algorithm will tune the model to pass enough information in thought vector for correct output decoding."
   ]
  },
  {
   "cell_type": "code",
   "execution_count": 13,
   "metadata": {
    "collapsed": false
   },
   "outputs": [
    {
     "data": {
      "text/plain": [
       "LSTMStateTuple(c=<tf.Tensor 'rnn/while/Exit_2:0' shape=(?, 20) dtype=float32>, h=<tf.Tensor 'rnn/while/Exit_3:0' shape=(?, 20) dtype=float32>)"
      ]
     },
     "execution_count": 13,
     "metadata": {},
     "output_type": "execute_result"
    }
   ],
   "source": [
    "encoder_final_state"
   ]
  },
  {
   "cell_type": "markdown",
   "metadata": {},
   "source": [
    "TensorFlow LSTM implementation stores state as a tuple of tensors. \n",
    "- `encoder_final_state.h` is activations of hidden layer of LSTM cell\n",
    "- `encoder_final_state.c` is final output, which can potentially be transfromed with some wrapper `@TODO: check correctness`"
   ]
  },
  {
   "cell_type": "markdown",
   "metadata": {},
   "source": [
    "### Decoder"
   ]
  },
  {
   "cell_type": "code",
   "execution_count": 14,
   "metadata": {
    "collapsed": false
   },
   "outputs": [],
   "source": [
    "decoder_cell = LSTMCell(hidden_units)\n",
    "\n",
    "decoder_cell = InputProjectionWrapper(cell=decoder_cell, num_proj=hidden_units)\n",
    "\n",
    "decoder_cell = OutputProjectionWrapper(cell=decoder_cell, output_size=vocab_size)\n",
    "\n",
    "decoder_inputs_onehot = tf.one_hot(decoder_inputs, depth=vocab_size, dtype=tf.float32)\n",
    "\n",
    "decoder_outputs, decoder_final_state = tf.nn.dynamic_rnn(\n",
    "    decoder_cell, decoder_inputs_onehot,\n",
    "    \n",
    "    initial_state=encoder_final_state,\n",
    "\n",
    "    dtype=tf.float32, time_major=True, scope=\"plain_decoder\",\n",
    ")"
   ]
  },
  {
   "cell_type": "markdown",
   "metadata": {},
   "source": [
    "Since we pass `encoder_final_state` as `initial_state` to the decoder, they should be compatible. This means the same cell type (`LSTMCell` in our case), the same amount of `hidden_units` and the same amount of layers (single layer). I suppose this can be relaxed if we additonally pass `encoder_final_state` through a one-layer MLP."
   ]
  },
  {
   "cell_type": "markdown",
   "metadata": {},
   "source": [
    "Decoder inputs get the same one-hot -> projection treatment as encoder inputs. But in case of the decoder, there is one more thing to do.\n",
    "\n",
    "With encoder, we were not interested in cells output. But decoder's outputs are what we actually after: we use them to get distribution over words of output sequence.\n",
    "\n",
    "At this point `decoder_cell` output is a `hidden_units` sized vector at every timestep. However, for training and prediction we need logits of size `vocab_size`. Reasonable thing would be to put linear layer on top of LSTM output to get non-normalized logits. This layer is called projection layer by convention."
   ]
  },
  {
   "cell_type": "code",
   "execution_count": 15,
   "metadata": {
    "collapsed": true
   },
   "outputs": [],
   "source": [
    "prediction_time_major = tf.argmax(decoder_outputs, 2)\n",
    "prediction = tf.transpose(prediction_time_major, perm=[1, 0])"
   ]
  },
  {
   "cell_type": "markdown",
   "metadata": {},
   "source": [
    "### Optimizer"
   ]
  },
  {
   "cell_type": "code",
   "execution_count": 16,
   "metadata": {
    "collapsed": false
   },
   "outputs": [
    {
     "data": {
      "text/plain": [
       "<tf.Tensor 'plain_decoder/TensorArrayStack/TensorArrayGatherV3:0' shape=(?, ?, 10) dtype=float32>"
      ]
     },
     "execution_count": 16,
     "metadata": {},
     "output_type": "execute_result"
    }
   ],
   "source": [
    "decoder_outputs"
   ]
  },
  {
   "cell_type": "markdown",
   "metadata": {},
   "source": [
    "RNN outputs tensor of shape `[max_time, batch_size, hidden_units]` which projection layer maps onto `[max_time, batch_size, vocab_size]`. `vocab_size` part of the shape is static, while `max_time` and `batch_size` is dynamic."
   ]
  },
  {
   "cell_type": "code",
   "execution_count": 17,
   "metadata": {
    "collapsed": true
   },
   "outputs": [],
   "source": [
    "decoder_targets_onehot = tf.one_hot(decoder_targets, depth=vocab_size, dtype=tf.float32)\n",
    "\n",
    "stepwise_cross_entropy = tf.nn.softmax_cross_entropy_with_logits(\n",
    "    labels=decoder_targets_onehot,\n",
    "    logits=decoder_outputs,\n",
    ")\n",
    "\n",
    "loss = tf.reduce_mean(stepwise_cross_entropy)\n",
    "train_op = tf.train.AdamOptimizer().minimize(loss)"
   ]
  },
  {
   "cell_type": "code",
   "execution_count": 18,
   "metadata": {
    "collapsed": false
   },
   "outputs": [],
   "source": [
    "sess.run(tf.global_variables_initializer())"
   ]
  },
  {
   "cell_type": "markdown",
   "metadata": {},
   "source": [
    "### Test forward pass\n",
    "\n",
    "Did I say that deep learning is a game of shapes? When building a Graph, TF will throw errors when static shapes are not matching. However, mismatches between dynamic shapes are often only discovered when we try to run something through the graph.\n",
    "\n",
    "\n",
    "So let's try running something. For that we need to prepare values we will feed into placeholders."
   ]
  },
  {
   "cell_type": "markdown",
   "metadata": {},
   "source": [
    "```\n",
    "this is key part where everything comes together\n",
    "\n",
    "@TODO: describe\n",
    "- how encoder shape is fixed to max\n",
    "- how decoder shape is arbitraty and determined by inputs, but should probably be longer then encoder's\n",
    "- how decoder input values are also arbitraty, and how we use GO token, and what are those 0s, and what can be used instead (shifted gold sequence, beam search)\n",
    "@TODO: add references\n",
    "```"
   ]
  },
  {
   "cell_type": "code",
   "execution_count": 19,
   "metadata": {
    "collapsed": false
   },
   "outputs": [
    {
     "name": "stdout",
     "output_type": "stream",
     "text": [
      "batch:\n",
      "[[5], [4, 5, 8], [9, 6, 3], [4], [4]]\n",
      "\n",
      "batch_encoded:\n",
      "[[5 4 9 4 4]\n",
      " [0 5 6 0 0]\n",
      " [0 8 3 0 0]]\n"
     ]
    }
   ],
   "source": [
    "batch_size = 5\n",
    "min_sequence_length = 1\n",
    "max_sequence_length = 4\n",
    "batch = [\n",
    "    np.random.randint(low=2, # reserved tokens: 0 - <PAD>, 1 - <EOS>\n",
    "                      high=vocab_size,\n",
    "                      size=np.random.randint(low=min_sequence_length, high=max_sequence_length)).tolist()\n",
    "    for _ in range(batch_size)\n",
    "]\n",
    "print('batch:')\n",
    "print(repr(batch))\n",
    "print()\n",
    "\n",
    "batch_encoded, _ = preprocess_batch(batch)\n",
    "print('batch_encoded:')\n",
    "print(batch_encoded)"
   ]
  },
  {
   "cell_type": "code",
   "execution_count": 20,
   "metadata": {
    "collapsed": false
   },
   "outputs": [
    {
     "name": "stdout",
     "output_type": "stream",
     "text": [
      "decoder_inputs_:\n",
      "[[1 1 1 1 1]\n",
      " [0 0 0 0 0]\n",
      " [0 0 0 0 0]\n",
      " [0 0 0 0 0]]\n",
      "\n"
     ]
    }
   ],
   "source": [
    "decoder_inputs_, _ = preprocess_batch(np.ones(shape=(batch_size, 1), dtype=np.int32),\n",
    "                                       max_sequence_length=max_sequence_length)\n",
    "print('decoder_inputs_:')\n",
    "print(decoder_inputs_)\n",
    "print()"
   ]
  },
  {
   "cell_type": "code",
   "execution_count": 21,
   "metadata": {
    "collapsed": false
   },
   "outputs": [
    {
     "data": {
      "text/plain": [
       "array([[4, 4, 5, 4, 4],\n",
       "       [6, 9, 9, 6, 6],\n",
       "       [6, 9, 9, 6, 6],\n",
       "       [6, 9, 9, 6, 6]])"
      ]
     },
     "execution_count": 21,
     "metadata": {},
     "output_type": "execute_result"
    }
   ],
   "source": [
    "sess.run(prediction_time_major,\n",
    "         feed_dict={\n",
    "            encoder_inputs: batch_encoded,\n",
    "            decoder_inputs: decoder_inputs_\n",
    "         })"
   ]
  },
  {
   "cell_type": "markdown",
   "metadata": {},
   "source": [
    "Successful forward computation, everything is wired correctly."
   ]
  },
  {
   "cell_type": "markdown",
   "metadata": {},
   "source": [
    "## Training on the toy task"
   ]
  },
  {
   "cell_type": "markdown",
   "metadata": {},
   "source": [
    "Consider the copy task — given a random sequence of integers from a `vocabulary`, learn to memorize and reproduce input sequence. Because sequences are random, they do not contain any structure, unlike natural language."
   ]
  },
  {
   "cell_type": "code",
   "execution_count": 22,
   "metadata": {
    "collapsed": false
   },
   "outputs": [
    {
     "name": "stdout",
     "output_type": "stream",
     "text": [
      "head of the batch:\n",
      "[6, 6, 5, 7]\n",
      "[4, 5]\n",
      "[9, 3, 5, 5]\n",
      "[7, 9, 5, 2, 5, 5]\n",
      "[8, 7, 3, 3, 3]\n",
      "[6, 2, 3, 3, 7, 9, 7]\n",
      "[5, 5, 9, 7, 7, 5, 9]\n",
      "[5, 7, 6, 7, 4]\n",
      "[9, 8, 8, 2, 7, 3]\n",
      "[5, 9, 3, 8, 2]\n"
     ]
    }
   ],
   "source": [
    "batch_size = 100\n",
    "\n",
    "def copy_task(min_sequence_length = 2,\n",
    "              max_sequence_length = 7,\n",
    "              vocab_lower = 2,\n",
    "              vocab_upper = vocab_size,\n",
    "              batch_size = batch_size):\n",
    "    \"\"\" Generates batches of random integer sequences,\n",
    "        sequence length in [min_sequence_length, max_sequence_length],\n",
    "        vocabulary in [vocab_lower, vocab_upper]\n",
    "    \"\"\"\n",
    "\n",
    "    def random_length():\n",
    "        if min_sequence_length > max_sequence_length:\n",
    "            raise ValueError('min_sequence_length > max_sequence_length')\n",
    "        elif min_sequence_length == max_sequence_length:\n",
    "            return min_sequence_length\n",
    "        return np.random.randint(min_sequence_length, max_sequence_length+1)\n",
    "\n",
    "    def random_sequence():\n",
    "        return np.random.randint(low=vocab_lower,\n",
    "                                 high=vocab_upper,\n",
    "                                 size=random_length()).tolist()\n",
    "    \n",
    "    while True:\n",
    "        yield [random_sequence() for _ in range(batch_size)]\n",
    "\n",
    "\n",
    "task = copy_task()\n",
    "batch = next(task)\n",
    "print('head of the batch:')\n",
    "for seq in batch[:10]:\n",
    "    print(seq)"
   ]
  },
  {
   "cell_type": "markdown",
   "metadata": {},
   "source": [
    "## Training loop"
   ]
  },
  {
   "cell_type": "code",
   "execution_count": 23,
   "metadata": {
    "collapsed": false
   },
   "outputs": [
    {
     "name": "stdout",
     "output_type": "stream",
     "text": [
      "epoch 0 done after 1 batches\n",
      "  minibatch loss: 2.2727274894714355\n",
      "  sample 1:\n",
      "    target    > [4 5 5 9 4 9 1 0 0 0]\n",
      "    predicted > [4 9 9 9 9 9 9 9 9 9]\n",
      "  sample 2:\n",
      "    target    > [3 3 4 1 0 0 0 0 0 0]\n",
      "    predicted > [4 6 6 6 6 6 6 6 6 6]\n",
      "  sample 3:\n",
      "    target    > [9 5 3 2 9 6 1 0 0 0]\n",
      "    predicted > [4 9 9 9 4 9 9 9 9 6]\n",
      "\n",
      "epoch 1 done after 1000 batches\n",
      "  minibatch loss: 0.2912651300430298\n",
      "  sample 1:\n",
      "    target    > [2 3 6 8 7 3 5 1 0 0]\n",
      "    predicted > [2 3 6 5 7 3 5 1 0 0]\n",
      "  sample 2:\n",
      "    target    > [8 7 9 7 8 5 7 1 0 0]\n",
      "    predicted > [8 7 9 7 8 5 7 1 0 0]\n",
      "  sample 3:\n",
      "    target    > [4 3 2 2 9 1 0 0 0 0]\n",
      "    predicted > [4 2 2 2 9 1 0 0 0 0]\n",
      "\n",
      "epoch 2 done after 1000 batches\n",
      "  minibatch loss: 0.12642544507980347\n",
      "  sample 1:\n",
      "    target    > [4 5 3 7 2 1 0 0 0 0]\n",
      "    predicted > [4 5 3 7 2 1 0 0 0 0]\n",
      "  sample 2:\n",
      "    target    > [9 5 6 4 5 2 7 1 0 0]\n",
      "    predicted > [9 5 6 4 5 5 7 1 0 0]\n",
      "  sample 3:\n",
      "    target    > [3 8 8 1 0 0 0 0 0 0]\n",
      "    predicted > [3 8 8 1 0 0 0 0 0 0]\n",
      "\n",
      "epoch 3 done after 1000 batches\n",
      "  minibatch loss: 0.07143303006887436\n",
      "  sample 1:\n",
      "    target    > [3 2 3 8 1 0 0 0 0 0]\n",
      "    predicted > [3 2 3 8 1 0 0 0 0 0]\n",
      "  sample 2:\n",
      "    target    > [2 6 2 3 7 5 1 0 0 0]\n",
      "    predicted > [2 6 2 3 7 5 1 0 0 0]\n",
      "  sample 3:\n",
      "    target    > [8 5 7 2 9 2 1 0 0 0]\n",
      "    predicted > [8 5 7 2 9 2 1 0 0 0]\n",
      "\n",
      "epoch 4 done after 1000 batches\n",
      "  minibatch loss: 0.05011291429400444\n",
      "  sample 1:\n",
      "    target    > [6 8 1 0 0 0 0 0 0 0]\n",
      "    predicted > [6 8 1 0 0 0 0 0 0 0]\n",
      "  sample 2:\n",
      "    target    > [6 7 4 8 8 6 1 0 0 0]\n",
      "    predicted > [6 7 4 8 8 6 1 0 0 0]\n",
      "  sample 3:\n",
      "    target    > [8 3 6 1 0 0 0 0 0 0]\n",
      "    predicted > [8 3 6 1 0 0 0 0 0 0]\n",
      "\n"
     ]
    }
   ],
   "source": [
    "batches_in_epoch = 1000\n",
    "max_epochs = 5\n",
    "\n",
    "for epoch in range(max_epochs):\n",
    "    batches_in_this_epoch = batches_in_epoch\n",
    "    if epoch == 0:\n",
    "        batches_in_this_epoch = 1\n",
    "\n",
    "    for _ in range(batches_in_this_epoch):\n",
    "\n",
    "        batch = next(task)\n",
    "        \n",
    "        encoder_inputs_, _ = preprocess_batch(\n",
    "            [sequence for sequence in batch]\n",
    "        )\n",
    "        \n",
    "        # for decoder inputs we put <EOS> token in 1st time step, \n",
    "        # and then target sequence;\n",
    "        # we add 2 additional paddings to allow decoder be a bit creative\n",
    "        # and go beyond target sequence;\n",
    "        decoder_inputs_, _ = preprocess_batch(\n",
    "            [[EOS] + sequence + [PAD] * 2 for sequence in batch]\n",
    "        )\n",
    "        \n",
    "        # fore decoder targets we put <EOS> after the sequence\n",
    "        # sequence lengths are same for decoder inputs and decoder targets\n",
    "        decoder_targets_, _ = preprocess_batch(\n",
    "            [sequence + [EOS] + [PAD] * 2 for sequence in batch]\n",
    "        )\n",
    "\n",
    "        feed_dict = {\n",
    "            encoder_inputs: encoder_inputs_,\n",
    "            decoder_inputs: decoder_inputs_,\n",
    "            decoder_targets: decoder_targets_,\n",
    "        }\n",
    "\n",
    "        sess.run(train_op, feed_dict)\n",
    "    \n",
    "    print('epoch {} done after {} batches'.format(epoch, batches_in_this_epoch))\n",
    "    \n",
    "    # reporting minibatch loss is a common lazy way to estimate \n",
    "    # how good our learner is doing here we fetch loss from the last batch in epoch\n",
    "    # better way for real-life learning would be to use `tf.summary` facilities \n",
    "    # with Tensorboard\n",
    "    print('  minibatch loss: {}'.format(sess.run(loss, feed_dict)))\n",
    "    predict_ = sess.run(prediction, feed_dict)\n",
    "    \n",
    "    # after each epoch, print a few autoencoding examples\n",
    "    for i, (truth, pred) in enumerate(zip(decoder_targets_.T, predict_)):\n",
    "        print('  sample {}:'.format(i + 1))\n",
    "        print('    target    > {}'.format(truth))\n",
    "        print('    predicted > {}'.format(pred))\n",
    "        if i >= 2:\n",
    "            break\n",
    "    print()"
   ]
  },
  {
   "cell_type": "markdown",
   "metadata": {},
   "source": [
    "Something is definitely getting learned."
   ]
  },
  {
   "cell_type": "markdown",
   "metadata": {},
   "source": [
    "# Limitations of the model\n",
    "\n",
    "We have no control over transitions of `tf.nn.dynamic_rnn`, it is unrolled in a single sweep\n",
    "\n",
    "- can't use beam search decoder optimization\n",
    "- can't feed previously generated tokens without falling back to python loops\n",
    "- can't use attention, because attention conditions decoder inputs on its previous state\n",
    "\n",
    "Solution would be to use `tf.nn.raw_rnn` to reimplement relevant parts of `tf.nn.dynamic_rnn`, add attention and beam search loops.\n",
    "**Will be done in following tutorials.**"
   ]
  },
  {
   "cell_type": "markdown",
   "metadata": {},
   "source": [
    "# Fun things to try (aka Exercises)\n",
    "\n",
    "- In `copy_task` increasing `max_sequence_size` and `vocab_upper`. Observe slower learning and general performance degradation.\n",
    "\n",
    "- For `decoder_inputs`, instead of shifted target sequence `[<EOS> W X Y Z]`, try feeding `[<EOS> <PAD> <PAD> <PAD>]`, like we've done when we tested forward pass. Does it break things? Or slows learning?"
   ]
  }
 ],
 "metadata": {
  "kernelspec": {
   "display_name": "Python 3",
   "language": "python",
   "name": "python3"
  },
  "language_info": {
   "codemirror_mode": {
    "name": "ipython",
    "version": 3
   },
   "file_extension": ".py",
   "mimetype": "text/x-python",
   "name": "python",
   "nbconvert_exporter": "python",
   "pygments_lexer": "ipython3",
   "version": "3.5.2"
  }
 },
 "nbformat": 4,
 "nbformat_minor": 2
}
