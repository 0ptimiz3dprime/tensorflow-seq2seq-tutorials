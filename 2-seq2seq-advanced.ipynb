{
 "cells": [
  {
   "cell_type": "markdown",
   "metadata": {},
   "source": [
    "# Advanced dynamic seq2seq with TensorFlow"
   ]
  },
  {
   "cell_type": "code",
   "execution_count": 1,
   "metadata": {
    "collapsed": true
   },
   "outputs": [],
   "source": [
    "import numpy as np\n",
    "import tensorflow as tf\n",
    "import helpers\n",
    "\n",
    "tf.reset_default_graph()\n",
    "sess = tf.InteractiveSession()"
   ]
  },
  {
   "cell_type": "code",
   "execution_count": 2,
   "metadata": {
    "collapsed": true
   },
   "outputs": [],
   "source": [
    "PAD = 0\n",
    "EOS = 1\n",
    "\n",
    "vocab_size = 10\n",
    "input_embedding_size = 20\n",
    "\n",
    "encoder_hidden_units = 20\n",
    "decoder_hidden_units = encoder_hidden_units * 2"
   ]
  },
  {
   "cell_type": "code",
   "execution_count": 3,
   "metadata": {
    "collapsed": false
   },
   "outputs": [],
   "source": [
    "encoder_inputs = tf.placeholder(shape=(None, None), dtype=tf.int32, name='encoder_inputs')\n",
    "encoder_inputs_length = tf.placeholder(shape=(None,), dtype=tf.int32, name='encoder_inputs_length')\n",
    "\n",
    "decoder_targets = tf.placeholder(shape=(None, None), dtype=tf.int32, name='decoder_targets')"
   ]
  },
  {
   "cell_type": "markdown",
   "metadata": {},
   "source": [
    "Previously we elected to manually feed `decoder_inputs` to better understand what is going on. Here we implement decoder with `tf.nn.raw_rnn` and will construct `decoder_inputs` step by step in the loop."
   ]
  },
  {
   "cell_type": "markdown",
   "metadata": {},
   "source": [
    "## Projections\n",
    "\n",
    "Here we manually setup input and output projections. It is necessary because we're implementing decoder with manual step transitions."
   ]
  },
  {
   "cell_type": "code",
   "execution_count": 4,
   "metadata": {
    "collapsed": false
   },
   "outputs": [],
   "source": [
    "def projection(inputs, projection_size, scope):\n",
    "    input_size = inputs.get_shape()[-1].value \n",
    "    # inputs shape like [time, batch, input_size] or [batch, input_size]\n",
    "\n",
    "    with tf.variable_scope(scope) as scope:\n",
    "        W = tf.get_variable(name='W', shape=[input_size, projection_size],\n",
    "                            dtype=tf.float32)\n",
    "\n",
    "        b = tf.get_variable(name='b', shape=[projection_size],\n",
    "                            dtype=tf.float32,\n",
    "                            initializer=tf.constant_initializer(0, dtype=tf.float32))\n",
    "\n",
    "    input_shape = tf.unstack(tf.shape(inputs))\n",
    "\n",
    "    if len(input_shape) == 3:\n",
    "        time, batch, _ = input_shape  # dynamic parts of shape\n",
    "        inputs = tf.reshape(inputs, [-1, input_size])\n",
    "\n",
    "    elif len(input_shape) == 2:\n",
    "        batch, _depth = input_shape\n",
    "\n",
    "    else:\n",
    "        raise ValueError(\"Wierd input shape: {}\".format(inputs))\n",
    "\n",
    "    linear = tf.add(tf.matmul(inputs, W), b)\n",
    "\n",
    "    if len(input_shape) == 3:\n",
    "        linear = tf.reshape(linear, [time, batch, projection_size])\n",
    "\n",
    "    return linear"
   ]
  },
  {
   "cell_type": "markdown",
   "metadata": {},
   "source": [
    "## Encoder\n",
    "\n",
    "We are replacing unidirectional `tf.nn.dynamic_rnn` with `tf.nn.bidirectional_dynamic_rnn` as the encoder.\n"
   ]
  },
  {
   "cell_type": "code",
   "execution_count": 5,
   "metadata": {
    "collapsed": true
   },
   "outputs": [],
   "source": [
    "from tensorflow.contrib.rnn import (LSTMCell, LSTMStateTuple,\n",
    "                                    InputProjectionWrapper,\n",
    "                                    OutputProjectionWrapper)"
   ]
  },
  {
   "cell_type": "code",
   "execution_count": 6,
   "metadata": {
    "collapsed": true
   },
   "outputs": [],
   "source": [
    "encoder_cell = LSTMCell(encoder_hidden_units)"
   ]
  },
  {
   "cell_type": "code",
   "execution_count": 7,
   "metadata": {
    "collapsed": false
   },
   "outputs": [],
   "source": [
    "with tf.variable_scope('EncoderInputProjection') as scope:\n",
    "    encoder_inputs_onehot = tf.one_hot(encoder_inputs, vocab_size)\n",
    "    encoder_inputs_projected = projection(encoder_inputs_onehot, input_embedding_size, scope)"
   ]
  },
  {
   "cell_type": "code",
   "execution_count": 8,
   "metadata": {
    "collapsed": false
   },
   "outputs": [
    {
     "data": {
      "text/plain": [
       "<tf.Tensor 'EncoderInputProjection/Reshape_1:0' shape=(?, ?, 20) dtype=float32>"
      ]
     },
     "execution_count": 8,
     "metadata": {},
     "output_type": "execute_result"
    }
   ],
   "source": [
    "encoder_inputs_projected"
   ]
  },
  {
   "cell_type": "code",
   "execution_count": 9,
   "metadata": {
    "collapsed": false
   },
   "outputs": [],
   "source": [
    "((encoder_fw_outputs,\n",
    "  encoder_bw_outputs),\n",
    " (encoder_fw_final_state,\n",
    "  encoder_bw_final_state)) = (\n",
    "    tf.nn.bidirectional_dynamic_rnn(cell_fw=encoder_cell,\n",
    "                                    cell_bw=encoder_cell,\n",
    "                                    inputs=encoder_inputs_projected,\n",
    "                                    sequence_length=encoder_inputs_length,\n",
    "                                    dtype=tf.float32, time_major=True)\n",
    "    )"
   ]
  },
  {
   "cell_type": "code",
   "execution_count": 10,
   "metadata": {
    "collapsed": false
   },
   "outputs": [
    {
     "data": {
      "text/plain": [
       "<tf.Tensor 'bidirectional_rnn/fw/fw/TensorArrayStack/TensorArrayGatherV3:0' shape=(?, ?, 20) dtype=float32>"
      ]
     },
     "execution_count": 10,
     "metadata": {},
     "output_type": "execute_result"
    }
   ],
   "source": [
    "encoder_fw_outputs"
   ]
  },
  {
   "cell_type": "code",
   "execution_count": 11,
   "metadata": {
    "collapsed": false
   },
   "outputs": [
    {
     "data": {
      "text/plain": [
       "<tf.Tensor 'ReverseSequence:0' shape=(?, ?, 20) dtype=float32>"
      ]
     },
     "execution_count": 11,
     "metadata": {},
     "output_type": "execute_result"
    }
   ],
   "source": [
    "encoder_bw_outputs"
   ]
  },
  {
   "cell_type": "code",
   "execution_count": 12,
   "metadata": {
    "collapsed": false
   },
   "outputs": [
    {
     "data": {
      "text/plain": [
       "LSTMStateTuple(c=<tf.Tensor 'bidirectional_rnn/fw/fw/while/Exit_2:0' shape=(?, 20) dtype=float32>, h=<tf.Tensor 'bidirectional_rnn/fw/fw/while/Exit_3:0' shape=(?, 20) dtype=float32>)"
      ]
     },
     "execution_count": 12,
     "metadata": {},
     "output_type": "execute_result"
    }
   ],
   "source": [
    "encoder_fw_final_state"
   ]
  },
  {
   "cell_type": "code",
   "execution_count": 13,
   "metadata": {
    "collapsed": false
   },
   "outputs": [
    {
     "data": {
      "text/plain": [
       "LSTMStateTuple(c=<tf.Tensor 'bidirectional_rnn/bw/bw/while/Exit_2:0' shape=(?, 20) dtype=float32>, h=<tf.Tensor 'bidirectional_rnn/bw/bw/while/Exit_3:0' shape=(?, 20) dtype=float32>)"
      ]
     },
     "execution_count": 13,
     "metadata": {},
     "output_type": "execute_result"
    }
   ],
   "source": [
    "encoder_bw_final_state"
   ]
  },
  {
   "cell_type": "markdown",
   "metadata": {},
   "source": [
    "Have to concatenate forward and backward outputs and state. In this case we will not discard outputs, they would be used for attention."
   ]
  },
  {
   "cell_type": "code",
   "execution_count": 14,
   "metadata": {
    "collapsed": false
   },
   "outputs": [],
   "source": [
    "encoder_outputs = tf.concat_v2((encoder_fw_outputs, encoder_fw_outputs), 2)\n",
    "\n",
    "encoder_final_state_c = tf.concat_v2(\n",
    "    (encoder_fw_final_state.c, encoder_bw_final_state.c), 1)\n",
    "\n",
    "encoder_final_state_h = tf.concat_v2(\n",
    "    (encoder_fw_final_state.h, encoder_bw_final_state.h), 1)\n",
    "\n",
    "encoder_final_state = LSTMStateTuple(\n",
    "    c=encoder_final_state_c,\n",
    "    h=encoder_final_state_h\n",
    ")"
   ]
  },
  {
   "cell_type": "code",
   "execution_count": 15,
   "metadata": {
    "collapsed": false
   },
   "outputs": [],
   "source": [
    "## - encoder override with forward-only rnn\n",
    "# with tf.variable_scope('encoder_override'):\n",
    "#     encoder_outputs, encoder_final_state = tf.nn.dynamic_rnn(\n",
    "#         cell=encoder_cell,\n",
    "#         inputs=encoder_inputs_projected,\n",
    "#         dtype=tf.float32, time_major=True,\n",
    "#     )"
   ]
  },
  {
   "cell_type": "markdown",
   "metadata": {},
   "source": [
    "## Decoder"
   ]
  },
  {
   "cell_type": "code",
   "execution_count": 16,
   "metadata": {
    "collapsed": false
   },
   "outputs": [],
   "source": [
    "decoder_cell = LSTMCell(decoder_hidden_units)"
   ]
  },
  {
   "cell_type": "code",
   "execution_count": 17,
   "metadata": {
    "collapsed": false
   },
   "outputs": [],
   "source": [
    "# time and batch dimensions are dynamic, i.e. they can change in runtime, from batch to batch\n",
    "encoder_max_time, batch_size = tf.unstack(tf.shape(encoder_inputs))\n",
    "\n",
    "# how far to run the decoder is our decision\n",
    "decoder_lengths = encoder_inputs_length + 3\n",
    "# +2 additional steps, +1 leading <EOS> token for decoder inputs"
   ]
  },
  {
   "cell_type": "markdown",
   "metadata": {},
   "source": [
    "Decoder without projection.\n",
    "Internal transition step uses beam search\n",
    "```\n",
    "output(t) -> output projection(t) -> prediction(t) (argmax) -> input projection(t+1) -> next input(t+1)\n",
    "```"
   ]
  },
  {
   "cell_type": "markdown",
   "metadata": {},
   "source": [
    "### Decoder via `tf.nn.raw_rnn`\n",
    "\n",
    "`tf.nn.dynamic_rnn` allows for easy RNN construction, but is limited. For example, a nice way to increase robustness of the model is to feed as decoder inputs tokens that it previously generated, instead of shifted true sequence.\n",
    "\n",
    "![seq2seq-feed-previous](pictures/2-seq2seq-feed-previous.png)\n",
    "*Image borrowed from http://www.wildml.com/2016/04/deep-learning-for-chatbots-part-1-introduction/*"
   ]
  },
  {
   "cell_type": "code",
   "execution_count": 18,
   "metadata": {
    "collapsed": false,
    "scrolled": false
   },
   "outputs": [],
   "source": [
    "assert EOS == 1\n",
    "assert PAD == 0\n",
    "\n",
    "eos_time_slice = tf.one_hot(\n",
    "    tf.ones([batch_size], \n",
    "            dtype=tf.int32, name='EOS'), \n",
    "    vocab_size, name='EOS_OneHot')\n",
    "\n",
    "pad_time_slice = tf.one_hot(\n",
    "    tf.zeros([batch_size], \n",
    "             dtype=tf.int32, name='PAD'),\n",
    "    vocab_size, name='PAD_OneHot')\n",
    "\n",
    "def loop_fn_initial(time, cell_output, cell_state, loop_state):\n",
    "    assert cell_output is None and loop_state is None and cell_state is None\n",
    "\n",
    "    elements_finished = (time >= decoder_lengths)  # all True at the 1st step\n",
    "    with tf.variable_scope('DecoderInputProjection') as scope:\n",
    "        initial_input = projection(eos_time_slice, input_embedding_size, scope)\n",
    "    initial_cell_state = encoder_final_state\n",
    "    initial_loop_state = None  # we don't need to pass any additional information\n",
    "    \n",
    "    return (elements_finished,\n",
    "            initial_input,\n",
    "            initial_cell_state,\n",
    "            None,  # cell output is dummy here\n",
    "            initial_loop_state)\n",
    "\n",
    "def loop_fn(time, cell_output, cell_state, loop_state):\n",
    "    \"\"\" loop_fn determines transitions between RNN unroll steps\n",
    "    \"\"\"\n",
    "\n",
    "    if cell_state is None:    # time == 0\n",
    "        return loop_fn_initial(time, cell_output, cell_state, loop_state)\n",
    "    \n",
    "    emit_output = cell_output  # == None for time == 0\n",
    "\n",
    "    next_cell_state = cell_state\n",
    "\n",
    "    elements_finished = (time >= decoder_lengths)\n",
    "    finished = tf.reduce_all(elements_finished)\n",
    "\n",
    "    def pad_step():\n",
    "        with tf.variable_scope('DecoderInputProjection', reuse=True) as scope:\n",
    "            return projection(pad_time_slice, input_embedding_size, scope)\n",
    "        \n",
    "    def beam_step():\n",
    "        \"\"\" output->input transition:\n",
    "\n",
    "            output[t] -> output projection[t] -> prediction[t] ->\n",
    "            -> input[t+1] -> input projection[t+1]\n",
    "        \"\"\"\n",
    "        with tf.variable_scope('DecoderOutputProjection') as scope:\n",
    "            output = projection(cell_output, vocab_size, scope)\n",
    "        prediction = tf.argmax(output, axis=1)\n",
    "        prediction_onehot = tf.one_hot(prediction, vocab_size)\n",
    "        with tf.variable_scope('DecoderInputProjection', reuse=True) as scope:\n",
    "            projection_ = projection(prediction_onehot, input_embedding_size, scope)\n",
    "        return projection_\n",
    "    \n",
    "    next_input = tf.cond(finished, pad_step, beam_step)\n",
    "\n",
    "    next_loop_state = None\n",
    "\n",
    "    result = (elements_finished, \n",
    "            next_input, \n",
    "            next_cell_state,\n",
    "            emit_output,\n",
    "            next_loop_state)\n",
    "    \n",
    "    return result\n",
    "\n",
    "decoder_outputs_ta, decoder_final_state, _ = tf.nn.raw_rnn(decoder_cell, loop_fn)\n",
    "decoder_outputs = decoder_outputs_ta.stack()\n",
    "\n",
    "with tf.variable_scope('DecoderOutputProjection') as scope:\n",
    "    decoder_logits = projection(decoder_outputs, vocab_size, scope)\n",
    "\n",
    "decoder_prediction = tf.argmax(decoder_logits, 2)"
   ]
  },
  {
   "cell_type": "markdown",
   "metadata": {},
   "source": [
    "### Optimizer"
   ]
  },
  {
   "cell_type": "markdown",
   "metadata": {},
   "source": [
    "RNN outputs tensor of shape `[max_time, batch_size, hidden_units]` which projection layer maps onto `[max_time, batch_size, vocab_size]`. `vocab_size` part of the shape is static, while `max_time` and `batch_size` is dynamic."
   ]
  },
  {
   "cell_type": "code",
   "execution_count": 19,
   "metadata": {
    "collapsed": true
   },
   "outputs": [],
   "source": [
    "stepwise_cross_entropy = tf.nn.softmax_cross_entropy_with_logits(\n",
    "    labels=tf.one_hot(decoder_targets, depth=vocab_size, dtype=tf.float32),\n",
    "    logits=decoder_logits,\n",
    ")\n",
    "\n",
    "loss = tf.reduce_mean(stepwise_cross_entropy)\n",
    "train_op = tf.train.AdamOptimizer().minimize(loss)"
   ]
  },
  {
   "cell_type": "code",
   "execution_count": 20,
   "metadata": {
    "collapsed": false
   },
   "outputs": [],
   "source": [
    "sess.run(tf.global_variables_initializer())"
   ]
  },
  {
   "cell_type": "markdown",
   "metadata": {},
   "source": [
    "## Training on the toy task"
   ]
  },
  {
   "cell_type": "markdown",
   "metadata": {},
   "source": [
    "Consider the copy task — given a random sequence of integers from a `vocabulary`, learn to memorize and reproduce input sequence. Because sequences are random, they do not contain any structure, unlike natural language."
   ]
  },
  {
   "cell_type": "code",
   "execution_count": 21,
   "metadata": {
    "collapsed": false
   },
   "outputs": [
    {
     "name": "stdout",
     "output_type": "stream",
     "text": [
      "head of the batch:\n",
      "[2, 8, 5, 2, 2, 5, 7, 7]\n",
      "[4, 8, 7, 7]\n",
      "[4, 7, 8, 4, 5]\n",
      "[2, 3, 8]\n",
      "[8, 2, 4, 2, 5, 6, 2, 8]\n",
      "[9, 7, 6, 2, 4, 6, 8, 7]\n",
      "[9, 7, 3, 8]\n",
      "[7, 7, 7, 5, 8, 9, 8, 6]\n",
      "[3, 2, 6, 2, 3, 9, 7]\n",
      "[4, 5, 8, 6]\n"
     ]
    }
   ],
   "source": [
    "batch_size = 100\n",
    "\n",
    "batches = helpers.random_sequences(length_from=3, length_to=8,\n",
    "                                   vocab_lower=2, vocab_upper=10,\n",
    "                                   batch_size=batch_size)\n",
    "\n",
    "print('head of the batch:')\n",
    "for seq in next(batches)[:10]:\n",
    "    print(seq)"
   ]
  },
  {
   "cell_type": "code",
   "execution_count": 22,
   "metadata": {
    "collapsed": true
   },
   "outputs": [],
   "source": [
    "def next_feed():\n",
    "    batch = next(batches)\n",
    "    encoder_inputs_, encoder_input_lengths_ = helpers.batch(batch)\n",
    "    decoder_targets_, _ = helpers.batch(\n",
    "        [(sequence) + [EOS] + [PAD] * 2 for sequence in batch]\n",
    "    )\n",
    "    return {\n",
    "        encoder_inputs: encoder_inputs_,\n",
    "        encoder_inputs_length: encoder_input_lengths_,\n",
    "        decoder_targets: decoder_targets_,\n",
    "    }"
   ]
  },
  {
   "cell_type": "code",
   "execution_count": 23,
   "metadata": {
    "collapsed": true
   },
   "outputs": [],
   "source": [
    "loss_track = []"
   ]
  },
  {
   "cell_type": "code",
   "execution_count": 24,
   "metadata": {
    "collapsed": false,
    "scrolled": false
   },
   "outputs": [
    {
     "name": "stdout",
     "output_type": "stream",
     "text": [
      "batch 0\n",
      "  minibatch loss: 2.294760227203369\n",
      "  sample 1:\n",
      "    input     > [7 4 7 3 0 0 0 0]\n",
      "    predicted > [5 5 8 8 8 8 5 0 0 0 0]\n",
      "  sample 2:\n",
      "    input     > [9 7 7 9 5 0 0 0]\n",
      "    predicted > [7 7 7 5 5 3 3 5 0 0 0]\n",
      "  sample 3:\n",
      "    input     > [6 9 5 4 4 8 5 8]\n",
      "    predicted > [2 3 3 3 3 3 3 3 5 5 9]\n",
      "\n",
      "batch 1000\n",
      "  minibatch loss: 0.6675865054130554\n",
      "  sample 1:\n",
      "    input     > [4 2 9 9 7 2 0 0]\n",
      "    predicted > [4 2 9 9 7 2 1 0 0 0 0]\n",
      "  sample 2:\n",
      "    input     > [8 4 7 0 0 0 0 0]\n",
      "    predicted > [8 4 7 1 0 0 0 0 0 0 0]\n",
      "  sample 3:\n",
      "    input     > [5 9 3 6 3 7 2 0]\n",
      "    predicted > [5 5 3 3 3 7 2 1 0 0 0]\n",
      "\n",
      "batch 2000\n",
      "  minibatch loss: 0.3265087604522705\n",
      "  sample 1:\n",
      "    input     > [4 3 8 9 9 9 0 0]\n",
      "    predicted > [4 3 8 9 9 9 1 0 0 0 0]\n",
      "  sample 2:\n",
      "    input     > [4 7 6 6 0 0 0 0]\n",
      "    predicted > [4 7 6 6 1 0 0 0 0 0 0]\n",
      "  sample 3:\n",
      "    input     > [5 7 9 3 8 3 8 0]\n",
      "    predicted > [5 7 9 3 3 3 8 1 0 0 0]\n",
      "\n",
      "batch 3000\n",
      "  minibatch loss: 0.16439595818519592\n",
      "  sample 1:\n",
      "    input     > [5 9 7 6 8 8 0 0]\n",
      "    predicted > [5 9 7 6 8 8 1 0 0 0 0]\n",
      "  sample 2:\n",
      "    input     > [2 2 5 6 9 9 5 0]\n",
      "    predicted > [2 5 5 9 9 9 5 1 0 0 0]\n",
      "  sample 3:\n",
      "    input     > [3 9 5 3 2 7 8 0]\n",
      "    predicted > [3 9 5 3 2 7 8 1 0 0 0]\n",
      "\n",
      "batch 4000\n",
      "  minibatch loss: 0.12039782106876373\n",
      "  sample 1:\n",
      "    input     > [5 9 7 6 5 5 3 6]\n",
      "    predicted > [5 9 7 9 5 5 3 6 1 0 0]\n",
      "  sample 2:\n",
      "    input     > [7 7 6 5 7 6 5 0]\n",
      "    predicted > [7 7 6 7 7 6 5 1 0 0 0]\n",
      "  sample 3:\n",
      "    input     > [9 9 6 0 0 0 0 0]\n",
      "    predicted > [9 9 6 1 0 0 0 0 0 0 0]\n",
      "\n",
      "batch 5000\n",
      "  minibatch loss: 0.08047980815172195\n",
      "  sample 1:\n",
      "    input     > [5 8 3 0 0 0 0 0]\n",
      "    predicted > [5 8 3 1 0 0 0 0 0 0 0]\n",
      "  sample 2:\n",
      "    input     > [5 4 3 9 6 0 0 0]\n",
      "    predicted > [5 4 3 9 6 1 0 0 0 0 0]\n",
      "  sample 3:\n",
      "    input     > [6 7 6 0 0 0 0 0]\n",
      "    predicted > [6 7 6 1 0 0 0 0 0 0 0]\n",
      "\n",
      "batch 6000\n",
      "  minibatch loss: 0.04571397230029106\n",
      "  sample 1:\n",
      "    input     > [3 5 9 2 4 0 0 0]\n",
      "    predicted > [3 5 9 2 4 1 0 0 0 0 0]\n",
      "  sample 2:\n",
      "    input     > [5 7 9 7 8 9 0 0]\n",
      "    predicted > [5 7 9 7 8 9 1 0 0 0 0]\n",
      "  sample 3:\n",
      "    input     > [8 2 3 9 0 0 0 0]\n",
      "    predicted > [8 2 3 9 1 0 0 0 0 0 0]\n",
      "\n",
      "batch 7000\n",
      "  minibatch loss: 0.02951410412788391\n",
      "  sample 1:\n",
      "    input     > [9 5 7 8 0 0 0 0]\n",
      "    predicted > [9 5 7 8 1 0 0 0 0 0 0]\n",
      "  sample 2:\n",
      "    input     > [6 8 4 6 4 4 0 0]\n",
      "    predicted > [6 8 4 6 4 4 1 0 0 0 0]\n",
      "  sample 3:\n",
      "    input     > [6 5 5 9 8 6 5 0]\n",
      "    predicted > [6 5 5 9 8 6 5 1 0 0 0]\n",
      "\n",
      "batch 8000\n",
      "  minibatch loss: 0.0316622368991375\n",
      "  sample 1:\n",
      "    input     > [2 6 4 5 0 0 0 0]\n",
      "    predicted > [2 6 4 5 1 0 0 0 0 0 0]\n",
      "  sample 2:\n",
      "    input     > [9 4 6 6 9 2 0 0]\n",
      "    predicted > [9 4 6 6 9 2 1 0 0 0 0]\n",
      "  sample 3:\n",
      "    input     > [4 9 2 4 0 0 0 0]\n",
      "    predicted > [4 9 2 4 1 0 0 0 0 0 0]\n",
      "\n",
      "batch 9000\n",
      "  minibatch loss: 0.017353234812617302\n",
      "  sample 1:\n",
      "    input     > [7 9 6 3 6 0 0 0]\n",
      "    predicted > [7 9 6 3 6 1 0 0 0 0 0]\n",
      "  sample 2:\n",
      "    input     > [7 8 3 4 7 6 2 0]\n",
      "    predicted > [7 8 3 4 7 6 2 1 0 0 0]\n",
      "  sample 3:\n",
      "    input     > [2 5 5 4 8 0 0 0]\n",
      "    predicted > [2 5 5 4 8 1 0 0 0 0 0]\n",
      "\n"
     ]
    }
   ],
   "source": [
    "max_batches = 10000\n",
    "batches_in_epoch = 1000\n",
    "\n",
    "try:\n",
    "    for batch in range(max_batches):\n",
    "        fd = next_feed()\n",
    "        _, l = sess.run([train_op, loss], fd)\n",
    "        loss_track.append(l)\n",
    "\n",
    "        if batch == 0 or batch % batches_in_epoch == 0:\n",
    "            print('batch {}'.format(batch))\n",
    "            print('  minibatch loss: {}'.format(sess.run(loss, fd)))\n",
    "            predict_ = sess.run(decoder_prediction, fd)\n",
    "            for i, (inp, pred) in enumerate(zip(fd[encoder_inputs].T, predict_.T)):\n",
    "                print('  sample {}:'.format(i + 1))\n",
    "                print('    input     > {}'.format(inp))\n",
    "                print('    predicted > {}'.format(pred))\n",
    "                if i >= 2:\n",
    "                    break\n",
    "            print()\n",
    "\n",
    "except KeyboardInterrupt:\n",
    "    print('training interrupted')"
   ]
  },
  {
   "cell_type": "code",
   "execution_count": 25,
   "metadata": {
    "collapsed": false
   },
   "outputs": [
    {
     "name": "stdout",
     "output_type": "stream",
     "text": [
      "loss 0.0120 after 1000000 examples (batch_size=100)\n"
     ]
    },
    {
     "data": {
      "image/png": "[encoded data removed]",
      "text/plain": [
       "<matplotlib.figure.Figure at 0x10f436630>"
      ]
     },
     "metadata": {},
     "output_type": "display_data"
    }
   ],
   "source": [
    "%matplotlib inline\n",
    "import matplotlib.pyplot as plt\n",
    "plt.plot(loss_track)\n",
    "print('loss {:.4f} after {} examples (batch_size={})'.format(loss_track[-1], len(loss_track)*batch_size, batch_size))"
   ]
  }
 ],
 "metadata": {
  "kernelspec": {
   "display_name": "Python 3",
   "language": "python",
   "name": "python3"
  },
  "language_info": {
   "codemirror_mode": {
    "name": "ipython",
    "version": 3
   },
   "file_extension": ".py",
   "mimetype": "text/x-python",
   "name": "python",
   "nbconvert_exporter": "python",
   "pygments_lexer": "ipython3",
   "version": "3.5.2"
  }
 },
 "nbformat": 4,
 "nbformat_minor": 2
}
